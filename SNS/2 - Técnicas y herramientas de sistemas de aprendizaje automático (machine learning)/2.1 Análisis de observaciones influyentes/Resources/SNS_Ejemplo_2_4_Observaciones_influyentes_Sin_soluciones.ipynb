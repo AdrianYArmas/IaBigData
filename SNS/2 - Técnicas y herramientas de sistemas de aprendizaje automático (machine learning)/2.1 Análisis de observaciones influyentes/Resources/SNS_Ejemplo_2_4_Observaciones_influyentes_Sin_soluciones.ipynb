{
  "nbformat": 4,
  "nbformat_minor": 0,
  "metadata": {
    "colab": {
      "provenance": []
    },
    "kernelspec": {
      "name": "python3",
      "display_name": "Python 3"
    },
    "language_info": {
      "name": "python"
    }
  },
  "cells": [
    {
      "cell_type": "markdown",
      "source": [
        "*Adrián Yared Armas de la Nuez*"
      ],
      "metadata": {
        "id": "ZKdaEppphjRA"
      }
    },
    {
      "cell_type": "markdown",
      "source": [
        "# Datos de la actividad"
      ],
      "metadata": {
        "id": "ir_O-goZgrrn"
      }
    },
    {
      "cell_type": "code",
      "source": [
        "# LIBRERÍAS EMPLEADAS EN EL EJEMPLO\n",
        "# Tratamiento de datos\n",
        "# ==============================================================================\n",
        "import numpy as np\n",
        "import pandas as pd\n",
        "\n",
        "# Generación de datos\n",
        "# ==============================================================================\n",
        "# Generamos (100 elementos) ingresos uniformemente distribuidos en [15000,25000]\n",
        "datos = 15000+np.random.rand(100)*10000\n",
        "datos_ord = datos\n",
        "datos_ord.sort()\n",
        "datos"
      ],
      "metadata": {
        "colab": {
          "base_uri": "https://localhost:8080/"
        },
        "id": "rrSdzJ7KgqQI",
        "outputId": "c56a3950-7790-4dae-ff5d-96b5fcc7d375"
      },
      "execution_count": 46,
      "outputs": [
        {
          "output_type": "execute_result",
          "data": {
            "text/plain": [
              "array([15029.04116924, 15139.58996532, 15160.02667321, 15278.92264352,\n",
              "       15606.79301509, 15693.17482983, 15761.61236229, 15820.35271594,\n",
              "       15835.81683627, 15842.2635175 , 15876.64408394, 15885.5898924 ,\n",
              "       15889.83686942, 16025.13069991, 16601.88610495, 16686.28709931,\n",
              "       16929.24612853, 16975.25861941, 17218.73544292, 17355.7877078 ,\n",
              "       17546.34991691, 17583.22284443, 17622.61289736, 17714.77531943,\n",
              "       17971.13974379, 18021.55457409, 18199.1876256 , 18222.7982767 ,\n",
              "       18251.46604267, 18258.97605479, 18419.78912116, 18577.47955155,\n",
              "       18603.36619541, 18606.80869524, 18616.28828055, 18632.62930666,\n",
              "       18650.61039186, 18659.08343104, 18740.25941689, 18888.25936613,\n",
              "       18914.02603308, 18934.20489053, 18963.11866448, 19041.77958442,\n",
              "       19105.95430878, 19232.27471225, 19238.56967648, 19253.07216844,\n",
              "       19316.55715569, 19426.17987764, 19508.19502343, 19555.14843915,\n",
              "       19809.23698662, 19827.8599004 , 19898.66957023, 19913.15604561,\n",
              "       19979.80630938, 20109.8288114 , 20163.57861259, 20242.81778596,\n",
              "       20362.37552412, 20492.57995959, 20636.13510724, 20673.9448299 ,\n",
              "       20688.00043524, 20946.09105629, 20948.06054342, 21122.031932  ,\n",
              "       21146.38898042, 21259.02774814, 21406.34070235, 21417.26934482,\n",
              "       21716.4500677 , 21779.15372377, 21950.92111065, 22030.5108059 ,\n",
              "       22070.33644369, 22466.97102256, 22544.86294178, 22599.24872118,\n",
              "       22632.20215698, 22761.17603064, 22858.70936524, 22902.6612361 ,\n",
              "       23118.44779107, 23311.57634564, 23542.24252875, 23741.84543994,\n",
              "       23862.44426776, 23920.51812484, 23996.86349462, 24227.62158824,\n",
              "       24311.74983774, 24398.57896553, 24434.52069659, 24460.26259229,\n",
              "       24473.56413597, 24782.73034284, 24845.0454343 , 24982.00542652])"
            ]
          },
          "metadata": {},
          "execution_count": 46
        }
      ]
    },
    {
      "cell_type": "markdown",
      "source": [
        "# 1. A partir del código de ejemplo utilizado en el notebook Ejemplo_2_4_Observaciones_influyentes_Sin soluciones.ipynb Url: https://colab.research.google.com/drive/11JM5daNQUCB_VSAOHmpFjHmFuZDsB3-i?usp=sharing"
      ],
      "metadata": {
        "id": "5_MFoDkqUisf"
      }
    },
    {
      "cell_type": "markdown",
      "source": [
        "##  *Calcular* la media y la mediana antes de realizar la modificación de incluir unos ingresos de 500.000€"
      ],
      "metadata": {
        "id": "hGHG_tahO2FS"
      }
    },
    {
      "cell_type": "code",
      "source": [
        "# Calcular la media y mediana antes de incluir el ingreso de 500,000€\n",
        "media_inicial = np.mean(datos)\n",
        "mediana_inicial = np.median(datos)\n",
        "\n",
        "print(f\"Media inicial: {media_inicial}\")\n",
        "print(f\"Mediana inicial: {mediana_inicial}\")\n"
      ],
      "metadata": {
        "colab": {
          "base_uri": "https://localhost:8080/"
        },
        "id": "y7y1pYKoO9EK",
        "outputId": "50c5aa70-0094-4921-fab3-5130a912fa9f"
      },
      "execution_count": 47,
      "outputs": [
        {
          "output_type": "stream",
          "name": "stdout",
          "text": [
            "Media inicial: 19826.54154788003\n",
            "Mediana inicial: 19467.187450533384\n"
          ]
        }
      ]
    },
    {
      "cell_type": "markdown",
      "source": [
        "## Aplicar el método de Probabilidad global, para detectar los outliers utilizado en el ejemplo 2_3_Outliers (Url: https://colab.research.google.com/drive/1C6uBUxui_Qq9ee-51ycVYcqigrSHSZNY?usp=sharing)"
      ],
      "metadata": {
        "id": "6U_tMNbIO5Qi"
      }
    },
    {
      "cell_type": "code",
      "source": [
        "import scipy.stats as st\n",
        "\n",
        "# Probabilidad global\n",
        "p_g = 0.95\n",
        "alfa_g = (1 - p_g) / 2\n",
        "\n",
        "# Probabilidad ajustada para un dato\n",
        "alfa = 1 - (1 - alfa_g) ** (1 / len(datos))\n",
        "Z_alfa = st.norm.ppf(1 - alfa / 2)\n",
        "\n",
        "# Intervalo de aceptación\n",
        "xL = round(np.mean(datos) - Z_alfa * np.std(datos), 4)\n",
        "xU = round(np.mean(datos) + Z_alfa * np.std(datos), 4)\n",
        "\n",
        "# Identificación de outliers\n",
        "outliers = [i for i, val in enumerate(datos) if val < xL or val > xU]\n",
        "\n",
        "print(f\"Alfa: {round(alfa, 5)}\")\n",
        "print(f\"Z_alfa: {round(Z_alfa, 5)}\")\n",
        "print(f\"Banda: [{xL}, {xU}]\")\n",
        "print(f\"Outliers detectados: {outliers}\")\n"
      ],
      "metadata": {
        "colab": {
          "base_uri": "https://localhost:8080/"
        },
        "id": "mqCUiZ33O9c7",
        "outputId": "f7db683b-8a9a-4d95-9ec4-3f725e782179"
      },
      "execution_count": 48,
      "outputs": [
        {
          "output_type": "stream",
          "name": "stdout",
          "text": [
            "Alfa: 0.00025\n",
            "Z_alfa: 3.65906\n",
            "Banda: [9792.117, 29860.9661]\n",
            "Outliers detectados: []\n"
          ]
        }
      ]
    },
    {
      "cell_type": "markdown",
      "source": [
        "## Repetir el mismo procedimiento de detectar los outliers para la mediana: ¿Qué ocurre?"
      ],
      "metadata": {
        "id": "bNRExri-O6zT"
      }
    },
    {
      "cell_type": "code",
      "source": [
        "# Detectar outliers usando el rango intercuartil (IQR) basado en la mediana\n",
        "q1 = np.percentile(datos, 25)\n",
        "q3 = np.percentile(datos, 75)\n",
        "iqr = q3 - q1\n",
        "\n",
        "# Límites inferior y superior usando el rango intercuartil\n",
        "limite_inferior = q1 - 1.5 * iqr\n",
        "limite_superior = q3 + 1.5 * iqr\n",
        "\n",
        "outliers_mediana = [i for i, val in enumerate(datos) if val < limite_inferior or val > limite_superior]\n",
        "\n",
        "print(f\"Cuartil 1: {q1}\")\n",
        "print(f\"Cuartil 3: {q3}\")\n",
        "print(f\"IQR: {iqr}\")\n",
        "print(f\"Límite inferior: {limite_inferior}\")\n",
        "print(f\"Límite superior: {limite_superior}\")\n",
        "print(f\"Outliers detectados basados en la mediana: {outliers_mediana}\")\n"
      ],
      "metadata": {
        "colab": {
          "base_uri": "https://localhost:8080/"
        },
        "id": "LFoODah7O9yi",
        "outputId": "51b003fd-6e44-4a5e-d710-d19e7d7173df"
      },
      "execution_count": 49,
      "outputs": [
        {
          "output_type": "stream",
          "name": "stdout",
          "text": [
            "Cuartil 1: 18008.9508665181\n",
            "Cuartil 3: 21970.81853446417\n",
            "IQR: 3961.867667946073\n",
            "Límite inferior: 12066.149364598989\n",
            "Límite superior: 27913.620036383283\n",
            "Outliers detectados basados en la mediana: []\n"
          ]
        }
      ]
    },
    {
      "cell_type": "markdown",
      "source": [
        "## Integración del método Jackknife para la detección de influencia"
      ],
      "metadata": {
        "id": "CTOt58kpQYjS"
      }
    },
    {
      "cell_type": "code",
      "source": [
        "# Método Jackknife para evaluar la influencia en la media y mediana\n",
        "phi_media = np.zeros(len(datos))\n",
        "phi_mediana = np.zeros(len(datos))\n",
        "\n",
        "for i in range(len(datos)):\n",
        "    datos_sin_i = np.delete(datos, i)\n",
        "    media_sin_i = np.mean(datos_sin_i)\n",
        "    mediana_sin_i = np.median(datos_sin_i)\n",
        "\n",
        "    phi_media[i] = abs(media_inicial - media_sin_i)\n",
        "    phi_mediana[i] = abs(mediana_inicial - mediana_sin_i)\n",
        "\n",
        "# Identificar los datos más influyentes\n",
        "influyente_media = np.argmax(phi_media)\n",
        "influyente_mediana = np.argmax(phi_mediana)\n",
        "\n",
        "print(f\"Dato más influyente en la media: Índice {influyente_media}, Valor {datos[influyente_media]}\")\n",
        "print(f\"Dato más influyente en la mediana: Índice {influyente_mediana}, Valor {datos[influyente_mediana]}\")\n"
      ],
      "metadata": {
        "colab": {
          "base_uri": "https://localhost:8080/"
        },
        "id": "CIegFOBQQXz6",
        "outputId": "d3eaa9f3-4f83-433e-9037-1b422a9ba581"
      },
      "execution_count": 50,
      "outputs": [
        {
          "output_type": "stream",
          "name": "stdout",
          "text": [
            "Dato más influyente en la media: Índice 99, Valor 24982.00542652343\n",
            "Dato más influyente en la mediana: Índice 0, Valor 15029.041169235072\n"
          ]
        }
      ]
    },
    {
      "cell_type": "markdown",
      "source": [
        "# 2. A partir del código de ejemplo utilizado en el notebook\n",
        "Ejemplo_2_5_Escalamiento_de_datos_Sin soluciones.ipynb\n",
        "Url: https://colab.research.google.com/drive/11vLMbjw5XmF7dJks0b04gfMdCnClE0Kw?usp=sharing"
      ],
      "metadata": {
        "id": "zB3Orq_YUL_H"
      }
    },
    {
      "cell_type": "markdown",
      "source": [
        " ## a) ¿Cuánto vale la media, mediana, la desviación estándar muestral, la varianza muestral y el rango de la variable X?\n"
      ],
      "metadata": {
        "id": "D2JamAd3UQ93"
      }
    },
    {
      "cell_type": "code",
      "source": [
        "x = np.array ([1,2,3,4,5,6,7,8,9,10])\n",
        "media = np.mean(x)\n",
        "mediana = np.median(x)\n",
        "desviacion_estandar = np.std(x)\n",
        "varianza = np.var(x)\n",
        "rango = np.ptp(x)\n",
        "\n",
        "print(f\"Media: {media}\")\n",
        "print(f\"Mediana: {mediana}\")\n",
        "print(f\"Desviación estándar: {desviacion_estandar}\")\n",
        "print(f\"Varianza: {varianza}\")\n",
        "print(f\"Rango: {rango}\")"
      ],
      "metadata": {
        "colab": {
          "base_uri": "https://localhost:8080/"
        },
        "id": "euDDwIzaUpdf",
        "outputId": "2a416bac-cc25-4e25-c02b-c6d1dcfed40b"
      },
      "execution_count": 51,
      "outputs": [
        {
          "output_type": "stream",
          "name": "stdout",
          "text": [
            "Media: 5.5\n",
            "Mediana: 5.5\n",
            "Desviación estándar: 2.8722813232690143\n",
            "Varianza: 8.25\n",
            "Rango: 9\n"
          ]
        }
      ]
    },
    {
      "cell_type": "markdown",
      "source": [
        "**Explicación:**\n",
        "<br>\n",
        "El código calcula estadísticas descriptivas de un arreglo x que contiene los números del 1 al 10. La media y la mediana son ambas 5.5, reflejando la simetría de los datos. La desviación estándar es aproximadamente 2.87, indicando la dispersión promedio de los valores respecto a la media, mientras que la varianza (8.25) mide la dispersión al cuadrado. Finalmente, el rango (9) representa la diferencia entre el valor máximo (10) y el mínimo (1), mostrando la amplitud total de los datos."
      ],
      "metadata": {
        "id": "v2lQoJKbauNq"
      }
    },
    {
      "cell_type": "markdown",
      "source": [
        "## b) Utilizar la función describe() de Panda, para obtener la media, desviación estándar, etc…"
      ],
      "metadata": {
        "id": "ddQjXUIVVCQX"
      }
    },
    {
      "cell_type": "code",
      "source": [
        "print(pd.DataFrame(x).describe())"
      ],
      "metadata": {
        "colab": {
          "base_uri": "https://localhost:8080/"
        },
        "id": "Vm8HArxQVG1u",
        "outputId": "6ec6ce4f-891f-4fa5-de4c-4964642e6bfa"
      },
      "execution_count": 52,
      "outputs": [
        {
          "output_type": "stream",
          "name": "stdout",
          "text": [
            "              0\n",
            "count  10.00000\n",
            "mean    5.50000\n",
            "std     3.02765\n",
            "min     1.00000\n",
            "25%     3.25000\n",
            "50%     5.50000\n",
            "75%     7.75000\n",
            "max    10.00000\n"
          ]
        }
      ]
    },
    {
      "cell_type": "markdown",
      "source": [
        "**Explicación:**\n",
        "<br>\n",
        "El código pd.DataFrame(x).describe() genera un resumen estadístico de la variable x, que contiene 10 valores del 1 al 10. Muestra que hay 10 datos (count), con una media y mediana de 5.5 (mean y 50%), una desviación estándar de 3.02765 (std), un rango que va desde el mínimo 1.0 (min) al máximo 10.0 (max), y percentiles clave como el 25% (3.25) y 75% (7.75). Esto resume de forma compacta la distribución y dispersión de los datos."
      ],
      "metadata": {
        "id": "xlDlD3YAazFb"
      }
    },
    {
      "cell_type": "markdown",
      "source": [
        "## c) ¿Por qué el resultado de calcular la desviación estándar con Numpy es diferente a la calculada por describe de Panda? ¿Qué ajuste sería necesario realizar para que los resultados fuesen similares/iguales?\n"
      ],
      "metadata": {
        "id": "u99JYBzSVIl2"
      }
    },
    {
      "cell_type": "code",
      "source": [
        "import numpy as np\n",
        "import pandas as pd\n",
        "\n",
        "# Datos de ejemplo\n",
        "data = [1, 2, 3, 4, 5, 6, 7, 8, 9, 10]\n",
        "\n",
        "# Numpy: desviación estándar poblacional\n",
        "std_numpy_pop = np.std(data)  # Por defecto ddof=0\n",
        "print(\"Numpy (poblacional):\", std_numpy_pop)\n",
        "\n",
        "# Numpy: desviación estándar muestral\n",
        "std_numpy_sample = np.std(data, ddof=1)  # Igual que describe() de Pandas\n",
        "print(\"Numpy (muestral):\", std_numpy_sample)\n",
        "\n",
        "# Pandas: desviación estándar (muestral)\n",
        "std_pandas = pd.Series(data).std()  # Por defecto ddof=1\n",
        "print(\"Pandas (muestral):\", std_pandas)\n",
        "\n",
        "# Pandas: desviación estándar poblacional\n",
        "std_pandas_pop = pd.Series(data).std(ddof=0)\n",
        "print(\"Pandas (poblacional):\", std_pandas_pop)\n"
      ],
      "metadata": {
        "colab": {
          "base_uri": "https://localhost:8080/"
        },
        "id": "URWHQuY6VN0V",
        "outputId": "745b707d-276d-4851-d239-cafac172c32f"
      },
      "execution_count": 53,
      "outputs": [
        {
          "output_type": "stream",
          "name": "stdout",
          "text": [
            "Numpy (poblacional): 2.8722813232690143\n",
            "Numpy (muestral): 3.0276503540974917\n",
            "Pandas (muestral): 3.0276503540974917\n",
            "Pandas (poblacional): 2.8722813232690143\n"
          ]
        }
      ]
    },
    {
      "cell_type": "markdown",
      "source": [
        "**Explicación:**\n",
        "<br>\n",
        "La diferencia surge porque Numpy, por defecto, calcula la desviación estándar poblacional (dividiendo por 𝑁), mientras que Pandas' describe usa la desviación estándar muestral (dividiendo por 𝑁−1, que es el sesgo corregido o \"Bessel's correction\"). Para hacer que los resultados sean iguales, puedes ajustar Numpy para que use el mismo método muestral estableciendo ddof=1 en la función np.std. Así, ambos cálculos usarán la corrección 𝑁−1."
      ],
      "metadata": {
        "id": "TVWaKgvAbW4y"
      }
    },
    {
      "cell_type": "markdown",
      "source": [
        "## d) Estandarizar la variable (escalamiento) mediante rangos y a continuación calcular la media y la mediana de la variable escalada"
      ],
      "metadata": {
        "id": "neRByIG4VOHu"
      }
    },
    {
      "cell_type": "code",
      "source": [
        "import numpy as np\n",
        "import pandas as pd\n",
        "\n",
        "# Datos\n",
        "X = np.array([1, 2, 3, 4, 5, 6, 7, 8, 9, 10])\n",
        "\n",
        "# Escalamiento mediante rangos: (X - min(X)) / (max(X) - min(X))\n",
        "X_scaled = (X - X.min()) / (X.max() - X.min())\n",
        "\n",
        "# Cálculo de la media y mediana de la variable escalada\n",
        "mean_scaled = np.mean(X_scaled)\n",
        "median_scaled = np.median(X_scaled)\n",
        "\n",
        "print(f\"Media escalada: {mean_scaled}\")\n",
        "print(f\"Mediana escalada: {median_scaled}\")"
      ],
      "metadata": {
        "colab": {
          "base_uri": "https://localhost:8080/"
        },
        "id": "amFHTtLkVSVm",
        "outputId": "f67cc8b7-393d-4ea3-e331-5c561ddccb80"
      },
      "execution_count": 54,
      "outputs": [
        {
          "output_type": "stream",
          "name": "stdout",
          "text": [
            "Media escalada: 0.5\n",
            "Mediana escalada: 0.5\n"
          ]
        }
      ]
    },
    {
      "cell_type": "markdown",
      "source": [
        "**Explicación:**\n",
        "<br>\n",
        "El escalamiento mediante rangos transforma los valores de la variable X al intervalo [0, 1], manteniendo las proporciones relativas. En este caso, la distribución original de X es uniforme y simétrica, por lo que su valor central (mediana) y promedio (media) también están en el punto medio del rango escalado, es decir, 0.5. Este resultado refleja que la transformación no altera la simetría de la distribución. Además, la media y mediana coinciden porque la distribución permanece uniforme tras el escalado."
      ],
      "metadata": {
        "id": "Wwcb1f9TbC4C"
      }
    },
    {
      "cell_type": "markdown",
      "source": [
        "## e) Repetir el apartado anterior con el escalamiento Z - score"
      ],
      "metadata": {
        "id": "-s4tMmkfVSme"
      }
    },
    {
      "cell_type": "code",
      "source": [
        "# Escalamiento Z-score: (X - mean(X)) / std(X)\n",
        "X_zscore = (X - X.mean()) / X.std()\n",
        "\n",
        "# Cálculo de la media y mediana de la variable escalada\n",
        "mean_zscore = np.mean(X_zscore)\n",
        "median_zscore = np.median(X_zscore)\n",
        "\n",
        "print(f\"Media escalada z-score: {mean_zscore}\")\n",
        "print(f\"Mediana escalada z-score: {median_zscore}\")\n",
        "\n"
      ],
      "metadata": {
        "colab": {
          "base_uri": "https://localhost:8080/"
        },
        "id": "wVJkZ7JtVUk2",
        "outputId": "e873bbc4-39d1-4165-ef3a-abc261dd04ea"
      },
      "execution_count": 55,
      "outputs": [
        {
          "output_type": "stream",
          "name": "stdout",
          "text": [
            "Media escalada z-score: -6.661338147750939e-17\n",
            "Mediana escalada z-score: 0.0\n"
          ]
        }
      ]
    },
    {
      "cell_type": "markdown",
      "source": [
        "El escalamiento Z-score transforma los datos para que tengan una media de 0 y una desviación estándar de 1. En este caso, la media calculada es aproximadamente 0 (con un error numérico insignificante, ~10^-17), lo cual confirma el centrado. La mediana de 0 indica que el valor central de los datos escalados también coincide con el centro de la distribución normalizada. Este método es útil para comparar datos en diferentes escalas, ya que elimina efectos de magnitud o unidad original."
      ],
      "metadata": {
        "id": "H22RrjPTYxsj"
      }
    },
    {
      "cell_type": "markdown",
      "source": [
        "**Explicación:**\n",
        "<br>\n",
        "El escalamiento Z-score transforma los datos para que tengan una media de 0 y una desviación estándar de 1. En este caso, la media calculada es aproximadamente 0 (con un error numérico insignificante, ~10^−17, lo cual confirma el centrado. La mediana de 0 indica que el valor central de los datos escalados también coincide con el centro de la distribución normalizada. Este método es útil para comparar datos en diferentes escalas, ya que elimina efectos de magnitud o unidad original."
      ],
      "metadata": {
        "id": "sRTpvx39bFcK"
      }
    }
  ]
}